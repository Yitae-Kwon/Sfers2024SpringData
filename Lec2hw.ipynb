{
 "cells": [
  {
   "cell_type": "markdown",
   "metadata": {},
   "source": [
    "# HW2"
   ]
  },
  {
   "cell_type": "markdown",
   "metadata": {},
   "source": [
    "### 0. Initialize"
   ]
  },
  {
   "cell_type": "markdown",
   "metadata": {},
   "source": [
    "이 파일(`Lec2hw.ipynb`)는 현재 메인 리포지토리에 있습니다. Pull하여 로컬로 가져와 주세요."
   ]
  },
  {
   "cell_type": "code",
   "execution_count": 4,
   "metadata": {},
   "outputs": [],
   "source": [
    "# required packages\n",
    "import pandas as pd\n",
    "import numpy as np\n",
    "import statsmodels.api as sm\n",
    "import statsmodels.formula.api as smf\n",
    "import matplotlib.pyplot as plt\n",
    "import seaborn as sns\n",
    "from scipy import stats"
   ]
  },
  {
   "cell_type": "markdown",
   "metadata": {},
   "source": [
    "### 1. Importing Data"
   ]
  },
  {
   "cell_type": "markdown",
   "metadata": {},
   "source": [
    "Q1) 현재 `./data/` 폴더에는 제가 조작한 데이터인 `week2.csv`가 있습니다. `data`라는 이름으로 불러와 주세요."
   ]
  },
  {
   "cell_type": "code",
   "execution_count": 34,
   "metadata": {},
   "outputs": [],
   "source": [
    "# TODO"
   ]
  },
  {
   "cell_type": "markdown",
   "metadata": {},
   "source": [
    "### 2. Ordinary Least Squares"
   ]
  },
  {
   "cell_type": "markdown",
   "metadata": {},
   "source": [
    "Q2) `y1`을 반응변수로, `x1`, `x2`, `x3`을 설명변수로 한 뒤 OLS를 적합하세요. 그 다음 OLS 결과표에 나온 결과들을 해석하세요."
   ]
  },
  {
   "cell_type": "code",
   "execution_count": 2,
   "metadata": {},
   "outputs": [],
   "source": [
    "# TODO"
   ]
  },
  {
   "cell_type": "markdown",
   "metadata": {},
   "source": [
    "Q3) `x3`의 계수가 0인지 검정하고, 결과를 설명해 주세요."
   ]
  },
  {
   "cell_type": "code",
   "execution_count": null,
   "metadata": {},
   "outputs": [],
   "source": [
    "# TODO"
   ]
  },
  {
   "cell_type": "markdown",
   "metadata": {},
   "source": [
    "Q4) `x1`과 `x2`를 곱한 값을 $x$축에, OLS에서 잔차를 $y$축에 두고 잔차도를 그려 보세요. 그 다음 그를 바탕으로 어떠한 항을 추가해야 할지 논의해 보세요."
   ]
  },
  {
   "cell_type": "code",
   "execution_count": null,
   "metadata": {},
   "outputs": [],
   "source": [
    "#  TODO"
   ]
  },
  {
   "cell_type": "markdown",
   "metadata": {},
   "source": [
    "Q5) `x1`과 `x2`의 상호작용항을 추가하여 OLS를 적합하고, 그 결과를 해석하여 주세요."
   ]
  },
  {
   "cell_type": "code",
   "execution_count": null,
   "metadata": {},
   "outputs": [],
   "source": [
    "# TODO"
   ]
  },
  {
   "cell_type": "markdown",
   "metadata": {},
   "source": [
    "Q6) `x1`과 `x2`의 계수를 각각 $\\beta_1$과 $\\beta_2$라고 할 때, 가설 \n",
    "$$H_0:  2\\beta_1 + \\beta_2 = 0$$\n",
    "을 검정하세요."
   ]
  },
  {
   "cell_type": "code",
   "execution_count": 3,
   "metadata": {},
   "outputs": [],
   "source": [
    "# TODO"
   ]
  },
  {
   "cell_type": "markdown",
   "metadata": {},
   "source": [
    "Q7) `x1`과 `x2`의 계수를 $\\beta_3$이라 할 때, contrast matrix를 \n",
    "$$ \n",
    "C = \\begin{pmatrix} 0 & 1 & 0 & -5 \\\\ 0 & -2 & 1 & 20\\end{pmatrix}\n",
    "$$\n",
    "으로 하는 generalized linear hypothesis의 형태를 쓰고, 이를 검정하세요."
   ]
  },
  {
   "cell_type": "code",
   "execution_count": 4,
   "metadata": {},
   "outputs": [],
   "source": [
    "# TODO"
   ]
  },
  {
   "cell_type": "markdown",
   "metadata": {},
   "source": [
    "### 2. Generalized Least Squares"
   ]
  },
  {
   "cell_type": "markdown",
   "metadata": {},
   "source": [
    "Q8) `y2`를 반응변수로, `x1`, `x2`, `x3`를 설명변수로 하여 OLS를 적합하고, 그 결과를 해석해 주세요."
   ]
  },
  {
   "cell_type": "code",
   "execution_count": 5,
   "metadata": {},
   "outputs": [],
   "source": [
    "# TODO"
   ]
  },
  {
   "cell_type": "markdown",
   "metadata": {},
   "source": [
    "Q9) 귀무가설 $H_0: \\beta_1 = \\beta_2 = 0$을 검정하고, `x1`과 `x2`가 모형에서 제거되어도 될 것 같은지 논의해 주세요."
   ]
  },
  {
   "cell_type": "code",
   "execution_count": null,
   "metadata": {},
   "outputs": [],
   "source": [
    "# TODO"
   ]
  },
  {
   "cell_type": "markdown",
   "metadata": {},
   "source": [
    "Q10) `x3`을 유일한 설명변수로 하되, 그 4차항까지 설명변수로 넣어 회귀모형\n",
    "$$\n",
    "y_2 = \\beta_0 + \\beta_1 x_3 + \\cdots + \\beta_4 x_3^4 + \\epsilon\n",
    "$$\n",
    "을 적합하여 주세요."
   ]
  },
  {
   "cell_type": "code",
   "execution_count": 6,
   "metadata": {},
   "outputs": [],
   "source": [
    "# TODO"
   ]
  },
  {
   "cell_type": "markdown",
   "metadata": {},
   "source": [
    "Q11) `x3`에서 그 평균을 빼어 `x4`를 새롭게 정의해 주세요. 즉 $x_4 = x_3 - \\bar{x}_3$이고 $\\bar{x}_4 = 0$입니다. 그 다음 `x3` 대신 `x4`를 이용하여 Q10)을 다시 수행해 주세요. 그 다음 VIF와 condition number를 비교하여 주세요."
   ]
  },
  {
   "cell_type": "code",
   "execution_count": null,
   "metadata": {},
   "outputs": [],
   "source": [
    "# TODO"
   ]
  },
  {
   "cell_type": "markdown",
   "metadata": {},
   "source": [
    "Q12) Q11)의 모형에서 $\\beta_0$부터 $\\beta_4$까지 네 변수 중 $\\beta_2$까지만 유의할 것으로 기대합니다. 따라서 이차 이하의 항만 이용하는 모형\n",
    "$$\n",
    "y_2 = \\beta_0 x_4 + \\beta_1 x_4^2 + \\beta_2 x_4^2 + \\epsilon\n",
    "$$\n",
    "을 새롭게 적합하고, 이 reduced model과 전체를 다 이용하는 full model을 비교하여 가설 $H_0: \\beta_3 = \\beta_4 = 0$을 검정하세요."
   ]
  },
  {
   "cell_type": "code",
   "execution_count": null,
   "metadata": {},
   "outputs": [],
   "source": [
    "# TODO"
   ]
  },
  {
   "cell_type": "markdown",
   "metadata": {},
   "source": [
    "Q13) Q12)에서 적합한 reduced model에 대해 $x$축에 index, $y$축에 잔차를 두는 잔차도를 그리고, durbin-watson test를 수행하여 잔차에 시계열적 상관이 있는지 확인하여 보세요."
   ]
  },
  {
   "cell_type": "code",
   "execution_count": null,
   "metadata": {},
   "outputs": [],
   "source": [
    "# TODO"
   ]
  },
  {
   "cell_type": "markdown",
   "metadata": {},
   "source": [
    "Q14) `sm.GLSAR()` 함수를 이용하여 feasible GLS를 Q12)의 reduced model에 대해 적용해 보세요. 그 다음 OLS의 결과와 비교해 보세요."
   ]
  },
  {
   "cell_type": "code",
   "execution_count": null,
   "metadata": {},
   "outputs": [],
   "source": [
    "# TODO"
   ]
  },
  {
   "cell_type": "markdown",
   "metadata": {},
   "source": [
    "### 3. Logistic Regression"
   ]
  },
  {
   "cell_type": "markdown",
   "metadata": {},
   "source": [
    "Q15) `y3`를 반응변수로, `x1`, `x2`, `x3`를 설명변수로 하여 로지스틱 회귀분석을 적합하고, 각 계수가 어떤 의미를 가지는지 해석해 보세요."
   ]
  },
  {
   "cell_type": "code",
   "execution_count": 35,
   "metadata": {},
   "outputs": [],
   "source": [
    "# TODO"
   ]
  }
 ],
 "metadata": {
  "kernelspec": {
   "display_name": "Python 3",
   "language": "python",
   "name": "python3"
  },
  "language_info": {
   "codemirror_mode": {
    "name": "ipython",
    "version": 3
   },
   "file_extension": ".py",
   "mimetype": "text/x-python",
   "name": "python",
   "nbconvert_exporter": "python",
   "pygments_lexer": "ipython3",
   "version": "3.11.5"
  }
 },
 "nbformat": 4,
 "nbformat_minor": 2
}
