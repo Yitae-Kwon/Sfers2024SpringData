{
 "cells": [
  {
   "cell_type": "markdown",
   "metadata": {},
   "source": [
    "# HW1"
   ]
  },
  {
   "cell_type": "markdown",
   "metadata": {},
   "source": [
    "### 0. Initialize"
   ]
  },
  {
   "cell_type": "markdown",
   "metadata": {},
   "source": [
    "이 파일(`Lec1hw.ipynb`)는 현재 메인 리포지토리에 있습니다. Pull하여 로컬로 가져와 주세요."
   ]
  },
  {
   "cell_type": "markdown",
   "metadata": {},
   "source": [
    "### 1. Web Crawling (생략)"
   ]
  },
  {
   "cell_type": "markdown",
   "metadata": {},
   "source": [
    "### 2. Importing Data"
   ]
  },
  {
   "cell_type": "markdown",
   "metadata": {},
   "source": [
    "Q1) 현재 `./data/` 폴더에는 크롤링하여 얻은 네 개의 파일이 있습니다. 모두 한국은행 경제통계시스템에서 추출되었으며, 2021년 01월부터 2023년 12월까지 3년 동안의 월별 물가지수에 관련한 데이터입니다. 네 파일의 이름은 아래와 같습니다.\n",
    "- `생산자물가지수(기본분류)_202101-202312.xlsx`\n",
    "- `소비자물가지수_202101-202312.xlsx`\n",
    "- `수입물가지수(기본분류)_202101-202312.csv`\n",
    "- `수출물가지수(기본분류)_202101-202312.csv`\n",
    "\n",
    "파일들을 모두 불러와서 각각\n",
    "`data_prod`, `data_cons`, `data_impo`, `data_expo`라는 이름으로 저장해 주세요.\n",
    "\n",
    "Hint: `.xlsx` 확장자는 `pd.read_excel()` 함수로 불러옵니다. https://velog.io/@cjw9105/Python-Pandas%EC%97%90%EC%84%9C-xlsx-%ED%8C%8C%EC%9D%BC-%EC%97%B4%EA%B8%B0 를 참고해 보세요."
   ]
  },
  {
   "cell_type": "code",
   "execution_count": 1,
   "metadata": {},
   "outputs": [],
   "source": [
    "# TODO"
   ]
  },
  {
   "cell_type": "markdown",
   "metadata": {},
   "source": [
    "### 3. Data Wrangling"
   ]
  },
  {
   "cell_type": "markdown",
   "metadata": {},
   "source": [
    "Q2) `data_prod`에서 통계표/코드(계정코드)/단위/가중치/변환 열을 삭제하고, 계정코드와 날짜 열만 남기세요. 동일한 방식으로, `data_cons`에서는 계정항목과 날짜 열만 남기세요. `data_impo`, `data_expo`는 계정코드와 통화계약구분코드, 날짜 열만 남기세요. 이후 행/열 전환을 전부 수행하고, column name으로 계정코드 혹은 계정항목이 들어가게 한 다음, row index에는 날짜가 들어가게 해 주세요. column name에 공백이 있는 경우 공백은 모두 제거해 주세요. 만약 데이터 타입이 숫자가 아니라면 모두 숫자로 바꿔 주세요."
   ]
  },
  {
   "cell_type": "code",
   "execution_count": 2,
   "metadata": {},
   "outputs": [],
   "source": [
    "# TODO"
   ]
  },
  {
   "cell_type": "markdown",
   "metadata": {},
   "source": [
    "Q3) `data_impo`와 `data_expo`에서는 통화계약 방식에 따라 여러 값을 제공합니다. `원화기준`을 통화계약구분코드로 하지 않는 열은 모두 삭제해 주세요. 그 다음, 통화계약구분코드 행은 삭제해 주세요.\n",
    "\n",
    "Hint: 다양한 방법으로 수행할 수 있습니다. https://stackoverflow.com/questions/37663931/selecting-columns-with-condition-on-pandas-dataframe를 한 번 참고해 보세요."
   ]
  },
  {
   "cell_type": "code",
   "execution_count": null,
   "metadata": {},
   "outputs": [],
   "source": [
    "# TODO"
   ]
  },
  {
   "cell_type": "markdown",
   "metadata": {},
   "source": [
    "Q4) 현재 단위가 `data_cons`를 제외한 세 개에서는 2015년을 100으로 하고 있는데, `data_cons`에서만 2020년을 100으로 하고 있습니다. 회귀분석은 scale-invariant합니다. 즉 선형 변환은 회귀분석의 결과를 바꾸지 않습니다. 따라서 기준년도를 바꿔주는 것은 회귀분석에 어떠한 차이도 주지 않습니다. 따라서 우리는 2021년 01월을 기준월로 하여 자료의 값을 모두 바꾸려 합니다. 예를 들어, 2021년 01월의 생산자물가지수 총지수는 105.05, 2021년 03월의 생산자물가지수 총지수는 107.04인데, 변환 후에는 이 값이 100과 107.04/105.05 * 100 = 101.89가 되겠습니다. \n",
    "\n",
    "Hint: 엄청 간단합니다. 2021년 01월의 정보는 모든 데이터에서 1행(0행)에 있습니다."
   ]
  },
  {
   "cell_type": "code",
   "execution_count": null,
   "metadata": {},
   "outputs": [],
   "source": [
    "#  TODO"
   ]
  },
  {
   "cell_type": "markdown",
   "metadata": {},
   "source": [
    "Q5) 우리는 총지수만 가지고 놀려고 합니다. 모든 데이터에서 총지수를 제외한 열은 모두 삭제해 주세요. 단, index에 있는 날짜는 삭제하지 않으셔도 됩니다. 그 다음 네 개의 데이터를 모두 합쳐 열이 네 개인 데이터프레임 `data_total`을 만들어 주세요. 열의 이름은 순서대로 `index_prod`, `index_cons`, `index_impo`, `index_expo`가 되게 해 주세요.\n",
    "\n",
    "Hint: `data_total.shape`는 `(36, 4)`를 리턴해야 합니다. 또한 그 1행(0행)은 모두 100이어야 합니다."
   ]
  },
  {
   "cell_type": "code",
   "execution_count": null,
   "metadata": {},
   "outputs": [],
   "source": [
    "# TODO"
   ]
  },
  {
   "cell_type": "markdown",
   "metadata": {},
   "source": [
    "Q6) 각 물가지수별로, 최댓값, 최솟값, 중앙값, 평균, 표준편차, 분포의 왜도를 구해 주세요. \n",
    "\n",
    "Hint: `.describe()`, `.agg()`와 `\"skew\"`를 잘 이용해보자."
   ]
  },
  {
   "cell_type": "code",
   "execution_count": 3,
   "metadata": {},
   "outputs": [],
   "source": [
    "# TODO"
   ]
  },
  {
   "cell_type": "markdown",
   "metadata": {},
   "source": [
    "Q7) 새로운 인덱스를 만들어봅시다. `index_dome`는 생산자물가지수에서 소비자물가지수를 뺀 값, `index_inte`는 수출물가지수에서 수입물가지수를 뺀 값입니다. 이들까지 포함하여 `data_total`이 6개의 열을 가지도록 변형해 주세요. 그리고 이들에 대해서 Q6를 수행하되, 이번에는 `index_dome`과 `index_inte`의 **절대값이** 최댓값이 되는 시점이 언제인지 구하고, 그 두 시점이 같은지 확인해 보세요.\n",
    "\n",
    "Hint: `.idxmax()`를 이용해 보세요."
   ]
  },
  {
   "cell_type": "code",
   "execution_count": 4,
   "metadata": {},
   "outputs": [],
   "source": [
    "# TODO"
   ]
  },
  {
   "cell_type": "markdown",
   "metadata": {},
   "source": [
    "Q8) `Lec1.ipynb`의 끝부분을 응용하여, `index_dome`와 `index_inte` 사이의 관계를 시각적으로 확인해 보세요."
   ]
  },
  {
   "cell_type": "code",
   "execution_count": 5,
   "metadata": {},
   "outputs": [],
   "source": [
    "# TODO"
   ]
  },
  {
   "cell_type": "markdown",
   "metadata": {},
   "source": [
    "### 4. Regression"
   ]
  },
  {
   "cell_type": "markdown",
   "metadata": {},
   "source": [
    "Q9) `data_total`에서 2021년~2022년 데이터를 `data_pre`로 정의하고, 2023년 데이터를 `data_post`로 정의해 주세요. 그 다음, 반응변수를 `index_inte`로, 설명변수를 `index_dome`로 하여 `data_pre`에 회귀분석을 적합하고 서머리 테이블을 내놓아 주세요. 그 다음 수업시간처럼 해석해 주세요."
   ]
  },
  {
   "cell_type": "code",
   "execution_count": null,
   "metadata": {},
   "outputs": [],
   "source": [
    "# TODO"
   ]
  },
  {
   "cell_type": "markdown",
   "metadata": {},
   "source": [
    "Q10) https://www.statsmodels.org/devel/examples/notebooks/generated/predict.html 을 참고하면 `.predict()`를 이용해 새로운 값 $x_{n+1}$이 들어왔을 때 회귀모형에 기반하여 mean reponse $\\beta_0 + \\beta_1 x_{n+1}$을 얻는 방법을 쉽게 배우실 수 있을 겁니다. Q9에서 적합한 모형에 `data_post`의 `index_dome`로써 예측한 값의 길이 12인 리스트 `index_inte_pred`와 실제 값의 길이 12인 리스트 `index_inte`를 비교해 보세요."
   ]
  },
  {
   "cell_type": "code",
   "execution_count": 6,
   "metadata": {},
   "outputs": [],
   "source": [
    "# TODO"
   ]
  }
 ],
 "metadata": {
  "kernelspec": {
   "display_name": "Python 3",
   "language": "python",
   "name": "python3"
  },
  "language_info": {
   "codemirror_mode": {
    "name": "ipython",
    "version": 3
   },
   "file_extension": ".py",
   "mimetype": "text/x-python",
   "name": "python",
   "nbconvert_exporter": "python",
   "pygments_lexer": "ipython3",
   "version": "3.11.5"
  }
 },
 "nbformat": 4,
 "nbformat_minor": 2
}
