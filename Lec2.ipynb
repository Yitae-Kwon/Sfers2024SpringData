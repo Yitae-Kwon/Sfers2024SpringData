{
 "cells": [
  {
   "cell_type": "markdown",
   "metadata": {},
   "source": [
    "## 0. Required Packages"
   ]
  },
  {
   "cell_type": "code",
   "execution_count": 1,
   "metadata": {},
   "outputs": [],
   "source": [
    "import pandas as pd\n",
    "import numpy as np\n",
    "import statsmodels.api as sm\n",
    "import statsmodels.formula.api as smf\n",
    "import matplotlib.pyplot as plt\n",
    "import seaborn as sns"
   ]
  },
  {
   "cell_type": "markdown",
   "metadata": {},
   "source": [
    "## 1. OLS\n",
    "### Fitting"
   ]
  },
  {
   "cell_type": "code",
   "execution_count": 2,
   "metadata": {},
   "outputs": [
    {
     "data": {
      "text/html": [
       "<div>\n",
       "<style scoped>\n",
       "    .dataframe tbody tr th:only-of-type {\n",
       "        vertical-align: middle;\n",
       "    }\n",
       "\n",
       "    .dataframe tbody tr th {\n",
       "        vertical-align: top;\n",
       "    }\n",
       "\n",
       "    .dataframe thead th {\n",
       "        text-align: right;\n",
       "    }\n",
       "</style>\n",
       "<table border=\"1\" class=\"dataframe\">\n",
       "  <thead>\n",
       "    <tr style=\"text-align: right;\">\n",
       "      <th></th>\n",
       "      <th>경상수지_lag</th>\n",
       "      <th>상품수지_lag</th>\n",
       "      <th>서비스수지_lag</th>\n",
       "      <th>본원소득수지_lag</th>\n",
       "      <th>이전소득수지_lag</th>\n",
       "      <th>자본수지_lag</th>\n",
       "      <th>자본이전_lag</th>\n",
       "      <th>비생산비금융자산_lag</th>\n",
       "      <th>금융계정_lag</th>\n",
       "      <th>직접투자_lag</th>\n",
       "      <th>증권투자_lag</th>\n",
       "      <th>파생금융상품_lag</th>\n",
       "      <th>기타투자_lag</th>\n",
       "      <th>준비자산_lag</th>\n",
       "      <th>외국인보유비율변화</th>\n",
       "    </tr>\n",
       "  </thead>\n",
       "  <tbody>\n",
       "    <tr>\n",
       "      <th>2018/01</th>\n",
       "      <td>4486.5</td>\n",
       "      <td>7915.5</td>\n",
       "      <td>-3707.4</td>\n",
       "      <td>1123.7</td>\n",
       "      <td>-845.3</td>\n",
       "      <td>-31.1</td>\n",
       "      <td>-14.9</td>\n",
       "      <td>-16.2</td>\n",
       "      <td>-6524.9</td>\n",
       "      <td>82.8</td>\n",
       "      <td>-12072.0</td>\n",
       "      <td>1451.9</td>\n",
       "      <td>4776.6</td>\n",
       "      <td>-764.2</td>\n",
       "      <td>0.357013</td>\n",
       "    </tr>\n",
       "    <tr>\n",
       "      <th>2018/02</th>\n",
       "      <td>2556.9</td>\n",
       "      <td>7338.0</td>\n",
       "      <td>-4654.4</td>\n",
       "      <td>1543.5</td>\n",
       "      <td>-1670.2</td>\n",
       "      <td>-6.1</td>\n",
       "      <td>2.3</td>\n",
       "      <td>-8.4</td>\n",
       "      <td>-4640.5</td>\n",
       "      <td>-885.9</td>\n",
       "      <td>-3516.5</td>\n",
       "      <td>1310.9</td>\n",
       "      <td>-104.9</td>\n",
       "      <td>-1444.1</td>\n",
       "      <td>0.060606</td>\n",
       "    </tr>\n",
       "    <tr>\n",
       "      <th>2018/03</th>\n",
       "      <td>3226.7</td>\n",
       "      <td>4793.3</td>\n",
       "      <td>-2723.5</td>\n",
       "      <td>1553.1</td>\n",
       "      <td>-396.2</td>\n",
       "      <td>-13.3</td>\n",
       "      <td>-6.6</td>\n",
       "      <td>-6.7</td>\n",
       "      <td>-3635.3</td>\n",
       "      <td>-253.1</td>\n",
       "      <td>-9867.3</td>\n",
       "      <td>888.1</td>\n",
       "      <td>5756.7</td>\n",
       "      <td>-159.7</td>\n",
       "      <td>-3.690714</td>\n",
       "    </tr>\n",
       "    <tr>\n",
       "      <th>2018/04</th>\n",
       "      <td>5210.4</td>\n",
       "      <td>9216.5</td>\n",
       "      <td>-2314.0</td>\n",
       "      <td>-1008.4</td>\n",
       "      <td>-683.7</td>\n",
       "      <td>1.7</td>\n",
       "      <td>5.7</td>\n",
       "      <td>-4.0</td>\n",
       "      <td>-5341.4</td>\n",
       "      <td>-1923.4</td>\n",
       "      <td>-399.2</td>\n",
       "      <td>1497.1</td>\n",
       "      <td>-3328.1</td>\n",
       "      <td>-1187.8</td>\n",
       "      <td>-0.243810</td>\n",
       "    </tr>\n",
       "    <tr>\n",
       "      <th>2018/05</th>\n",
       "      <td>1490.4</td>\n",
       "      <td>9402.2</td>\n",
       "      <td>-1970.1</td>\n",
       "      <td>-5269.2</td>\n",
       "      <td>-672.5</td>\n",
       "      <td>47.7</td>\n",
       "      <td>-0.5</td>\n",
       "      <td>48.2</td>\n",
       "      <td>-37.2</td>\n",
       "      <td>-2189.0</td>\n",
       "      <td>-4070.4</td>\n",
       "      <td>749.3</td>\n",
       "      <td>8591.9</td>\n",
       "      <td>-3119.0</td>\n",
       "      <td>0.329690</td>\n",
       "    </tr>\n",
       "    <tr>\n",
       "      <th>...</th>\n",
       "      <td>...</td>\n",
       "      <td>...</td>\n",
       "      <td>...</td>\n",
       "      <td>...</td>\n",
       "      <td>...</td>\n",
       "      <td>...</td>\n",
       "      <td>...</td>\n",
       "      <td>...</td>\n",
       "      <td>...</td>\n",
       "      <td>...</td>\n",
       "      <td>...</td>\n",
       "      <td>...</td>\n",
       "      <td>...</td>\n",
       "      <td>...</td>\n",
       "      <td>...</td>\n",
       "    </tr>\n",
       "    <tr>\n",
       "      <th>2023/08</th>\n",
       "      <td>4113.9</td>\n",
       "      <td>4427.5</td>\n",
       "      <td>-2572.1</td>\n",
       "      <td>3356.3</td>\n",
       "      <td>-1097.8</td>\n",
       "      <td>-32.1</td>\n",
       "      <td>-0.2</td>\n",
       "      <td>-31.9</td>\n",
       "      <td>-3677.0</td>\n",
       "      <td>-1036.9</td>\n",
       "      <td>-4274.2</td>\n",
       "      <td>293.6</td>\n",
       "      <td>-125.7</td>\n",
       "      <td>1466.2</td>\n",
       "      <td>0.638420</td>\n",
       "    </tr>\n",
       "    <tr>\n",
       "      <th>2023/09</th>\n",
       "      <td>5412.7</td>\n",
       "      <td>5201.4</td>\n",
       "      <td>-1549.5</td>\n",
       "      <td>1879.0</td>\n",
       "      <td>-118.2</td>\n",
       "      <td>-26.5</td>\n",
       "      <td>3.0</td>\n",
       "      <td>-29.5</td>\n",
       "      <td>-6286.7</td>\n",
       "      <td>-2112.9</td>\n",
       "      <td>-4246.9</td>\n",
       "      <td>328.8</td>\n",
       "      <td>-1847.5</td>\n",
       "      <td>1591.8</td>\n",
       "      <td>0.251555</td>\n",
       "    </tr>\n",
       "    <tr>\n",
       "      <th>2023/10</th>\n",
       "      <td>6072.7</td>\n",
       "      <td>7486.3</td>\n",
       "      <td>-3209.9</td>\n",
       "      <td>2180.4</td>\n",
       "      <td>-384.1</td>\n",
       "      <td>23.7</td>\n",
       "      <td>25.6</td>\n",
       "      <td>-1.9</td>\n",
       "      <td>-4370.2</td>\n",
       "      <td>-2071.5</td>\n",
       "      <td>-5131.1</td>\n",
       "      <td>-665.3</td>\n",
       "      <td>2262.2</td>\n",
       "      <td>1235.5</td>\n",
       "      <td>-0.162105</td>\n",
       "    </tr>\n",
       "    <tr>\n",
       "      <th>2023/11</th>\n",
       "      <td>7437.8</td>\n",
       "      <td>5433.3</td>\n",
       "      <td>-1279.8</td>\n",
       "      <td>3358.5</td>\n",
       "      <td>-74.2</td>\n",
       "      <td>44.0</td>\n",
       "      <td>45.9</td>\n",
       "      <td>-1.9</td>\n",
       "      <td>-8773.7</td>\n",
       "      <td>-171.3</td>\n",
       "      <td>-4400.9</td>\n",
       "      <td>-430.0</td>\n",
       "      <td>-3812.2</td>\n",
       "      <td>40.7</td>\n",
       "      <td>-0.730813</td>\n",
       "    </tr>\n",
       "    <tr>\n",
       "      <th>2023/12</th>\n",
       "      <td>3890.7</td>\n",
       "      <td>6878.2</td>\n",
       "      <td>-2210.9</td>\n",
       "      <td>-116.6</td>\n",
       "      <td>-660.0</td>\n",
       "      <td>-11.5</td>\n",
       "      <td>-7.2</td>\n",
       "      <td>-4.3</td>\n",
       "      <td>-1128.1</td>\n",
       "      <td>-2888.1</td>\n",
       "      <td>2203.0</td>\n",
       "      <td>229.6</td>\n",
       "      <td>-54.9</td>\n",
       "      <td>-617.7</td>\n",
       "      <td>-2.642344</td>\n",
       "    </tr>\n",
       "  </tbody>\n",
       "</table>\n",
       "<p>72 rows × 15 columns</p>\n",
       "</div>"
      ],
      "text/plain": [
       "         경상수지_lag  상품수지_lag  서비스수지_lag  본원소득수지_lag  이전소득수지_lag  자본수지_lag  \\\n",
       "2018/01    4486.5    7915.5    -3707.4      1123.7      -845.3     -31.1   \n",
       "2018/02    2556.9    7338.0    -4654.4      1543.5     -1670.2      -6.1   \n",
       "2018/03    3226.7    4793.3    -2723.5      1553.1      -396.2     -13.3   \n",
       "2018/04    5210.4    9216.5    -2314.0     -1008.4      -683.7       1.7   \n",
       "2018/05    1490.4    9402.2    -1970.1     -5269.2      -672.5      47.7   \n",
       "...           ...       ...        ...         ...         ...       ...   \n",
       "2023/08    4113.9    4427.5    -2572.1      3356.3     -1097.8     -32.1   \n",
       "2023/09    5412.7    5201.4    -1549.5      1879.0      -118.2     -26.5   \n",
       "2023/10    6072.7    7486.3    -3209.9      2180.4      -384.1      23.7   \n",
       "2023/11    7437.8    5433.3    -1279.8      3358.5       -74.2      44.0   \n",
       "2023/12    3890.7    6878.2    -2210.9      -116.6      -660.0     -11.5   \n",
       "\n",
       "         자본이전_lag  비생산비금융자산_lag  금융계정_lag  직접투자_lag  증권투자_lag  파생금융상품_lag  \\\n",
       "2018/01     -14.9         -16.2   -6524.9      82.8  -12072.0      1451.9   \n",
       "2018/02       2.3          -8.4   -4640.5    -885.9   -3516.5      1310.9   \n",
       "2018/03      -6.6          -6.7   -3635.3    -253.1   -9867.3       888.1   \n",
       "2018/04       5.7          -4.0   -5341.4   -1923.4    -399.2      1497.1   \n",
       "2018/05      -0.5          48.2     -37.2   -2189.0   -4070.4       749.3   \n",
       "...           ...           ...       ...       ...       ...         ...   \n",
       "2023/08      -0.2         -31.9   -3677.0   -1036.9   -4274.2       293.6   \n",
       "2023/09       3.0         -29.5   -6286.7   -2112.9   -4246.9       328.8   \n",
       "2023/10      25.6          -1.9   -4370.2   -2071.5   -5131.1      -665.3   \n",
       "2023/11      45.9          -1.9   -8773.7    -171.3   -4400.9      -430.0   \n",
       "2023/12      -7.2          -4.3   -1128.1   -2888.1    2203.0       229.6   \n",
       "\n",
       "         기타투자_lag  준비자산_lag  외국인보유비율변화  \n",
       "2018/01    4776.6    -764.2   0.357013  \n",
       "2018/02    -104.9   -1444.1   0.060606  \n",
       "2018/03    5756.7    -159.7  -3.690714  \n",
       "2018/04   -3328.1   -1187.8  -0.243810  \n",
       "2018/05    8591.9   -3119.0   0.329690  \n",
       "...           ...       ...        ...  \n",
       "2023/08    -125.7    1466.2   0.638420  \n",
       "2023/09   -1847.5    1591.8   0.251555  \n",
       "2023/10    2262.2    1235.5  -0.162105  \n",
       "2023/11   -3812.2      40.7  -0.730813  \n",
       "2023/12     -54.9    -617.7  -2.642344  \n",
       "\n",
       "[72 rows x 15 columns]"
      ]
     },
     "execution_count": 2,
     "metadata": {},
     "output_type": "execute_result"
    }
   ],
   "source": [
    "# import data\n",
    "data = pd.read_csv('./data/week1.csv', index_col= 0)\n",
    "data"
   ]
  },
  {
   "cell_type": "code",
   "execution_count": 3,
   "metadata": {},
   "outputs": [
    {
     "name": "stdout",
     "output_type": "stream",
     "text": [
      "                            OLS Regression Results                            \n",
      "==============================================================================\n",
      "Dep. Variable:              외국인보유비율변화   R-squared:                       0.009\n",
      "Model:                            OLS   Adj. R-squared:                 -0.034\n",
      "Method:                 Least Squares   F-statistic:                    0.2116\n",
      "Date:                Sat, 23 Mar 2024   Prob (F-statistic):              0.888\n",
      "Time:                        20:22:30   Log-Likelihood:                -70.471\n",
      "No. Observations:                  72   AIC:                             148.9\n",
      "Df Residuals:                      68   BIC:                             158.0\n",
      "Df Model:                           3                                         \n",
      "Covariance Type:            nonrobust                                         \n",
      "==============================================================================\n",
      "                 coef    std err          t      P>|t|      [0.025      0.975]\n",
      "------------------------------------------------------------------------------\n",
      "Intercept      0.0279      0.168      0.166      0.869      -0.308       0.364\n",
      "상품수지_lag   -1.561e-05   2.12e-05     -0.736      0.464   -5.79e-05    2.67e-05\n",
      "서비스수지_lag   1.594e-05   7.31e-05      0.218      0.828      -0.000       0.000\n",
      "증권투자_lag   -1.912e-06   1.79e-05     -0.107      0.915   -3.76e-05    3.38e-05\n",
      "==============================================================================\n",
      "Omnibus:                       76.989   Durbin-Watson:                   1.411\n",
      "Prob(Omnibus):                  0.000   Jarque-Bera (JB):              759.961\n",
      "Skew:                          -3.136   Prob(JB):                    9.47e-166\n",
      "Kurtosis:                      17.628   Cond. No.                     1.66e+04\n",
      "==============================================================================\n",
      "\n",
      "Notes:\n",
      "[1] Standard Errors assume that the covariance matrix of the errors is correctly specified.\n",
      "[2] The condition number is large, 1.66e+04. This might indicate that there are\n",
      "strong multicollinearity or other numerical problems.\n"
     ]
    }
   ],
   "source": [
    "# fit ols\n",
    "ols_result = smf.ols(formula = '외국인보유비율변화 ~ 상품수지_lag + 서비스수지_lag + 증권투자_lag', data = data).fit()\n",
    "print(ols_result.summary())"
   ]
  },
  {
   "cell_type": "markdown",
   "metadata": {},
   "source": [
    "### Testing Complicated Hypothesis"
   ]
  },
  {
   "cell_type": "code",
   "execution_count": 4,
   "metadata": {},
   "outputs": [
    {
     "data": {
      "text/plain": [
       "0.6635060480852502"
      ]
     },
     "execution_count": 4,
     "metadata": {},
     "output_type": "execute_result"
    }
   ],
   "source": [
    "# case 1\n",
    "from scipy import stats\n",
    "\n",
    "covmat = ols_result.cov_params() # covariance matrix\n",
    "C = np.zeros(4); C[1] = 1; C[2] = -1 # make C\n",
    "Tcse = np.matmul(np.matmul(C, covmat), C.transpose()) # variance\n",
    "betadiff = np.matmul(C, ols_result.params) # \\hat{\\beta_1} - \\hat{\\beta_2}\n",
    "TC = betadiff / np.sqrt(Tcse) # t statistic\n",
    "1 - stats.t.cdf(df = 68, x = TC) # p-value"
   ]
  },
  {
   "cell_type": "code",
   "execution_count": 5,
   "metadata": {},
   "outputs": [
    {
     "name": "stdout",
     "output_type": "stream",
     "text": [
      "<F test: F=0.0903177281595697, p=0.9137502630832091, df_denom=68, df_num=2>\n"
     ]
    }
   ],
   "source": [
    "# case 2\n",
    "# test \\beta_1 - \\beta_2 = 0, \\beta_3 = 0\n",
    "# corresponding C is \n",
    "'''\n",
    "0 1 -1 0\n",
    "0 0  0 1\n",
    "'''\n",
    "# test C\\beta = (\\beta_1 - \\beta_2, \\beta_3) = (0, 0)\n",
    "\n",
    "C = np.array([[0, 1, -1, 0], [0, 0, 0, 1]])\n",
    "print(ols_result.f_test(C))"
   ]
  },
  {
   "cell_type": "code",
   "execution_count": 6,
   "metadata": {},
   "outputs": [
    {
     "name": "stdout",
     "output_type": "stream",
     "text": [
      "<F test: F=0.31025501064939465, p=0.734292372322748, df_denom=68, df_num=2>\n"
     ]
    }
   ],
   "source": [
    "# case 3\n",
    "print(ols_result.f_test('(상품수지_lag = 0), (서비스수지_lag = 0)'))"
   ]
  },
  {
   "cell_type": "markdown",
   "metadata": {},
   "source": [
    "## 2. Regression Diagnostics"
   ]
  },
  {
   "cell_type": "markdown",
   "metadata": {},
   "source": [
    "### Linearity"
   ]
  },
  {
   "cell_type": "code",
   "execution_count": 7,
   "metadata": {},
   "outputs": [
    {
     "data": {
      "image/png": "[encoded data removed]",
      "text/plain": [
       "<Figure size 640x480 with 1 Axes>"
      ]
     },
     "metadata": {},
     "output_type": "display_data"
    }
   ],
   "source": [
    "residuals = ols_result.resid\n",
    "fittedy = ols_result.predict()\n",
    "plt.scatter(fittedy, residuals)\n",
    "plt.xlabel('Predicted Responses')\n",
    "plt.ylabel('residuals')\n",
    "plt.show()"
   ]
  },
  {
   "cell_type": "code",
   "execution_count": 8,
   "metadata": {},
   "outputs": [
    {
     "data": {
      "text/plain": [
       "(3.8207661547571865,\n",
       " 0.2814799010087104,\n",
       " <class 'statsmodels.stats.contrast.ContrastResults'>\n",
       " <F test: F=1.214200600644942, p=0.3116493053448261, df_denom=65, df_num=3>)"
      ]
     },
     "execution_count": 8,
     "metadata": {},
     "output_type": "execute_result"
    }
   ],
   "source": [
    "sm.stats.diagnostic.linear_harvey_collier(ols_result)\n",
    "sm.stats.diagnostic.linear_rainbow(ols_result) #(fstat, pvalue) 형태\n",
    "sm.stats.diagnostic.linear_reset(ols_result)\n",
    "\n",
    "from patsy import dmatrices\n",
    "y, X = dmatrices('외국인보유비율변화 ~ 상품수지_lag + 서비스수지_lag + 증권투자_lag', data=data, return_type='dataframe')\n",
    "sm.stats.diagnostic.linear_lm(ols_result.resid, X)"
   ]
  },
  {
   "cell_type": "markdown",
   "metadata": {},
   "source": [
    "### Normality"
   ]
  },
  {
   "cell_type": "code",
   "execution_count": 9,
   "metadata": {},
   "outputs": [
    {
     "name": "stderr",
     "output_type": "stream",
     "text": [
      "c:\\Users\\kwonk\\AppData\\Local\\Programs\\Python\\Python311\\Lib\\site-packages\\seaborn\\_oldcore.py:1498: FutureWarning: is_categorical_dtype is deprecated and will be removed in a future version. Use isinstance(dtype, CategoricalDtype) instead\n",
      "  if pd.api.types.is_categorical_dtype(vector):\n",
      "c:\\Users\\kwonk\\AppData\\Local\\Programs\\Python\\Python311\\Lib\\site-packages\\seaborn\\_oldcore.py:1119: FutureWarning: use_inf_as_na option is deprecated and will be removed in a future version. Convert inf values to NaN before operating instead.\n",
      "  with pd.option_context('mode.use_inf_as_na', True):\n"
     ]
    },
    {
     "data": {
      "text/plain": [
       "<seaborn.axisgrid.FacetGrid at 0x23660f93d10>"
      ]
     },
     "execution_count": 9,
     "metadata": {},
     "output_type": "execute_result"
    },
    {
     "data": {
      "image/png": "[encoded data removed]",
      "text/plain": [
       "<Figure size 500x500 with 1 Axes>"
      ]
     },
     "metadata": {},
     "output_type": "display_data"
    }
   ],
   "source": [
    "sns.displot(x = ols_result.resid, bins = 30, kde = True)"
   ]
  },
  {
   "cell_type": "code",
   "execution_count": 10,
   "metadata": {},
   "outputs": [
    {
     "data": {
      "image/png": "[encoded data removed]",
      "text/plain": [
       "<Figure size 600x500 with 1 Axes>"
      ]
     },
     "metadata": {},
     "output_type": "display_data"
    }
   ],
   "source": [
    "plt.figure(figsize = (6, 5))\n",
    "stats.probplot(ols_result.resid, dist = stats.norm, plot = plt)\n",
    "plt.show()"
   ]
  },
  {
   "cell_type": "code",
   "execution_count": 11,
   "metadata": {},
   "outputs": [
    {
     "data": {
      "text/plain": [
       "(4.504264378331214, 2.7562324969594994e-11)"
      ]
     },
     "execution_count": 11,
     "metadata": {},
     "output_type": "execute_result"
    }
   ],
   "source": [
    "sm.stats.omni_normtest(ols_result.resid)\n",
    "sm.stats.jarque_bera(ols_result.resid) # (value, pvalue, skew, kurtosis)\n",
    "sm.stats.diagnostic.kstest_normal(ols_result.resid) # (value, pvalue)\n",
    "sm.stats.diagnostic.lilliefors(ols_result.resid) # (value, pvalue)\n",
    "sm.stats.normal_ad(ols_result.resid) # (value, pvalue)"
   ]
  },
  {
   "cell_type": "markdown",
   "metadata": {},
   "source": [
    "### Independency"
   ]
  },
  {
   "cell_type": "code",
   "execution_count": 12,
   "metadata": {},
   "outputs": [
    {
     "data": {
      "image/png": "[encoded data removed]",
      "text/plain": [
       "<Figure size 640x480 with 1 Axes>"
      ]
     },
     "metadata": {},
     "output_type": "display_data"
    }
   ],
   "source": [
    "residuals = ols_result.resid\n",
    "index = range(len(residuals))\n",
    "plt.plot(index, residuals)\n",
    "plt.scatter(index, residuals)\n",
    "plt.xlabel('Index')\n",
    "plt.ylabel('residuals')\n",
    "plt.show()"
   ]
  },
  {
   "cell_type": "code",
   "execution_count": 13,
   "metadata": {},
   "outputs": [
    {
     "data": {
      "text/plain": [
       "1.4109115534738934"
      ]
     },
     "execution_count": 13,
     "metadata": {},
     "output_type": "execute_result"
    }
   ],
   "source": [
    "sm.stats.durbin_watson(residuals)"
   ]
  },
  {
   "cell_type": "code",
   "execution_count": 14,
   "metadata": {},
   "outputs": [
    {
     "data": {
      "text/plain": [
       "(17.77959938572752,\n",
       " 0.05879726108860185,\n",
       " 2.0505458025620866,\n",
       " 0.046734553021453365)"
      ]
     },
     "execution_count": 14,
     "metadata": {},
     "output_type": "execute_result"
    }
   ],
   "source": [
    "sm.stats.acorr_ljungbox(residuals) # lag, stat, and p-value\n",
    "sm.stats.acorr_breusch_godfrey(ols_result) # lm value, lm-pvalue, fvalue, f-pvalue\n",
    "sm.stats.acorr_lm(residuals) # lm value, lm-pvalue, fvalue, f-pvalue"
   ]
  },
  {
   "cell_type": "markdown",
   "metadata": {},
   "source": [
    "### Leverage, Influence, and Outliers"
   ]
  },
  {
   "cell_type": "code",
   "execution_count": 15,
   "metadata": {},
   "outputs": [
    {
     "data": {
      "text/plain": [
       "<matplotlib.collections.LineCollection at 0x236655df290>"
      ]
     },
     "execution_count": 15,
     "metadata": {},
     "output_type": "execute_result"
    },
    {
     "data": {
      "image/png": "[encoded data removed]",
      "text/plain": [
       "<Figure size 640x480 with 1 Axes>"
      ]
     },
     "metadata": {},
     "output_type": "display_data"
    }
   ],
   "source": [
    "# standardized residuals\n",
    "influence = ols_result.get_influence()\n",
    "stud_resid = influence.resid_studentized_internal # (array([ 2, 37, 71], dtype=int64),)\n",
    "np.where(abs(stud_resid)>2)\n",
    "plt.plot(stud_resid)\n",
    "plt.hlines(y = 2, xmin = 0, xmax = 72, color = \"red\")\n",
    "plt.hlines(y = -2, xmin = 0, xmax = 72, color = \"red\")"
   ]
  },
  {
   "cell_type": "code",
   "execution_count": 16,
   "metadata": {},
   "outputs": [
    {
     "data": {
      "image/png": "[encoded data removed]",
      "text/plain": [
       "<Figure size 640x480 with 1 Axes>"
      ]
     },
     "metadata": {},
     "output_type": "display_data"
    }
   ],
   "source": [
    "# leverage\n",
    "leverage = influence.hat_matrix_diag\n",
    "sm.graphics.influence_plot(ols_result)\n",
    "plt.show()"
   ]
  },
  {
   "cell_type": "code",
   "execution_count": 17,
   "metadata": {},
   "outputs": [
    {
     "data": {
      "text/plain": [
       "array([ 7.83917039e-01,  3.47567147e-01, -5.65187670e+00, -1.41533881e-01,\n",
       "        7.23306670e-01, -1.59030004e-01,  8.47143404e-02,  2.14033734e-01,\n",
       "        8.45076489e-01,  1.42757734e+00, -1.40271712e-01,  2.58620263e-01,\n",
       "        2.79429762e-01,  2.35299898e-01,  6.75047376e-01,  1.53318399e-01,\n",
       "       -1.26389629e-02, -2.82849886e-01,  1.43507340e-01,  2.87701977e-01,\n",
       "        3.82105960e-01,  3.57826870e-01,  1.59949861e-01, -1.42115545e-01,\n",
       "       -1.33530739e-01,  2.65172350e-02, -4.09506974e-01, -5.40360330e-01,\n",
       "       -1.40072007e+00, -4.62762996e-01,  2.00130114e-02,  3.39068197e-01,\n",
       "       -5.51466562e-01, -6.78420114e-01,  3.47825534e-01, -3.51153555e-01,\n",
       "        7.85830397e-01,  2.00880700e+00, -9.08950918e-02, -2.67538483e-01,\n",
       "       -2.75133461e-01,  2.83466523e-01,  2.98556654e-01,  1.05985992e+00,\n",
       "        6.96006859e-01,  2.96904169e-01, -7.15291290e-01, -2.13093025e-01,\n",
       "       -3.88088281e-02, -6.44641308e-01, -1.14165203e+00, -5.73891483e-01,\n",
       "        4.85416622e-01,  6.31718897e-02,  1.86476028e-03, -1.42049743e-01,\n",
       "        7.25297485e-01,  6.77105692e-01,  1.02795921e+00,  3.70104844e-01,\n",
       "        2.75999999e-01,  7.36486232e-01,  8.04201641e-01, -2.85298426e-02,\n",
       "       -6.23317739e-01,  1.66721736e-01,  5.32688928e-01,  1.09191472e+00,\n",
       "        4.88969342e-01, -4.92662546e-02, -1.00762377e+00, -3.89460991e+00])"
      ]
     },
     "execution_count": 17,
     "metadata": {},
     "output_type": "execute_result"
    }
   ],
   "source": [
    "stud_resid"
   ]
  },
  {
   "cell_type": "code",
   "execution_count": 18,
   "metadata": {},
   "outputs": [
    {
     "data": {
      "text/html": [
       "<div>\n",
       "<style scoped>\n",
       "    .dataframe tbody tr th:only-of-type {\n",
       "        vertical-align: middle;\n",
       "    }\n",
       "\n",
       "    .dataframe tbody tr th {\n",
       "        vertical-align: top;\n",
       "    }\n",
       "\n",
       "    .dataframe thead th {\n",
       "        text-align: right;\n",
       "    }\n",
       "</style>\n",
       "<table border=\"1\" class=\"dataframe\">\n",
       "  <thead>\n",
       "    <tr style=\"text-align: right;\">\n",
       "      <th></th>\n",
       "      <th>dfb_Intercept</th>\n",
       "      <th>dfb_상품수지_lag</th>\n",
       "      <th>dfb_서비스수지_lag</th>\n",
       "      <th>dfb_증권투자_lag</th>\n",
       "      <th>cooks_d</th>\n",
       "      <th>standard_resid</th>\n",
       "      <th>hat_diag</th>\n",
       "      <th>dffits_internal</th>\n",
       "      <th>student_resid</th>\n",
       "      <th>dffits</th>\n",
       "    </tr>\n",
       "  </thead>\n",
       "  <tbody>\n",
       "    <tr>\n",
       "      <th>2018/01</th>\n",
       "      <td>-0.114468</td>\n",
       "      <td>-0.004906</td>\n",
       "      <td>-0.170910</td>\n",
       "      <td>-0.171540</td>\n",
       "      <td>0.019954</td>\n",
       "      <td>0.783917</td>\n",
       "      <td>0.114953</td>\n",
       "      <td>0.282519</td>\n",
       "      <td>0.781672</td>\n",
       "      <td>0.281709</td>\n",
       "    </tr>\n",
       "    <tr>\n",
       "      <th>2018/02</th>\n",
       "      <td>-0.065820</td>\n",
       "      <td>0.009170</td>\n",
       "      <td>-0.124968</td>\n",
       "      <td>0.011683</td>\n",
       "      <td>0.004551</td>\n",
       "      <td>0.347567</td>\n",
       "      <td>0.130952</td>\n",
       "      <td>0.134919</td>\n",
       "      <td>0.345309</td>\n",
       "      <td>0.134042</td>\n",
       "    </tr>\n",
       "    <tr>\n",
       "      <th>2018/03</th>\n",
       "      <td>0.131194</td>\n",
       "      <td>0.652290</td>\n",
       "      <td>0.893240</td>\n",
       "      <td>1.466649</td>\n",
       "      <td>0.564037</td>\n",
       "      <td>-5.651877</td>\n",
       "      <td>0.065969</td>\n",
       "      <td>-1.502048</td>\n",
       "      <td>-7.704413</td>\n",
       "      <td>-2.047531</td>\n",
       "    </tr>\n",
       "    <tr>\n",
       "      <th>2018/04</th>\n",
       "      <td>0.008544</td>\n",
       "      <td>-0.018308</td>\n",
       "      <td>0.011978</td>\n",
       "      <td>-0.014665</td>\n",
       "      <td>0.000223</td>\n",
       "      <td>-0.141534</td>\n",
       "      <td>0.042669</td>\n",
       "      <td>-0.029880</td>\n",
       "      <td>-0.140510</td>\n",
       "      <td>-0.029664</td>\n",
       "    </tr>\n",
       "    <tr>\n",
       "      <th>2018/05</th>\n",
       "      <td>-0.033074</td>\n",
       "      <td>0.081771</td>\n",
       "      <td>-0.024847</td>\n",
       "      <td>0.000192</td>\n",
       "      <td>0.003974</td>\n",
       "      <td>0.723307</td>\n",
       "      <td>0.029486</td>\n",
       "      <td>0.126075</td>\n",
       "      <td>0.720747</td>\n",
       "      <td>0.125629</td>\n",
       "    </tr>\n",
       "    <tr>\n",
       "      <th>...</th>\n",
       "      <td>...</td>\n",
       "      <td>...</td>\n",
       "      <td>...</td>\n",
       "      <td>...</td>\n",
       "      <td>...</td>\n",
       "      <td>...</td>\n",
       "      <td>...</td>\n",
       "      <td>...</td>\n",
       "      <td>...</td>\n",
       "      <td>...</td>\n",
       "    </tr>\n",
       "    <tr>\n",
       "      <th>2023/08</th>\n",
       "      <td>0.006809</td>\n",
       "      <td>-0.060309</td>\n",
       "      <td>-0.125557</td>\n",
       "      <td>-0.041895</td>\n",
       "      <td>0.009319</td>\n",
       "      <td>1.091915</td>\n",
       "      <td>0.030316</td>\n",
       "      <td>0.193067</td>\n",
       "      <td>1.093485</td>\n",
       "      <td>0.193345</td>\n",
       "    </tr>\n",
       "    <tr>\n",
       "      <th>2023/09</th>\n",
       "      <td>0.027986</td>\n",
       "      <td>-0.009778</td>\n",
       "      <td>0.000868</td>\n",
       "      <td>-0.021226</td>\n",
       "      <td>0.000963</td>\n",
       "      <td>0.488969</td>\n",
       "      <td>0.015857</td>\n",
       "      <td>0.062067</td>\n",
       "      <td>0.486216</td>\n",
       "      <td>0.061718</td>\n",
       "    </tr>\n",
       "    <tr>\n",
       "      <th>2023/10</th>\n",
       "      <td>0.004542</td>\n",
       "      <td>-0.001599</td>\n",
       "      <td>0.008665</td>\n",
       "      <td>0.001432</td>\n",
       "      <td>0.000032</td>\n",
       "      <td>-0.049266</td>\n",
       "      <td>0.049772</td>\n",
       "      <td>-0.011275</td>\n",
       "      <td>-0.048904</td>\n",
       "      <td>-0.011192</td>\n",
       "    </tr>\n",
       "    <tr>\n",
       "      <th>2023/11</th>\n",
       "      <td>-0.071005</td>\n",
       "      <td>0.011270</td>\n",
       "      <td>-0.033151</td>\n",
       "      <td>0.049714</td>\n",
       "      <td>0.004398</td>\n",
       "      <td>-1.007624</td>\n",
       "      <td>0.017034</td>\n",
       "      <td>-0.132642</td>\n",
       "      <td>-1.007739</td>\n",
       "      <td>-0.132657</td>\n",
       "    </tr>\n",
       "    <tr>\n",
       "      <th>2023/12</th>\n",
       "      <td>0.034915</td>\n",
       "      <td>-0.319440</td>\n",
       "      <td>0.386007</td>\n",
       "      <td>-0.683495</td>\n",
       "      <td>0.173531</td>\n",
       "      <td>-3.894610</td>\n",
       "      <td>0.043760</td>\n",
       "      <td>-0.833140</td>\n",
       "      <td>-4.385840</td>\n",
       "      <td>-0.938225</td>\n",
       "    </tr>\n",
       "  </tbody>\n",
       "</table>\n",
       "<p>72 rows × 10 columns</p>\n",
       "</div>"
      ],
      "text/plain": [
       "         dfb_Intercept  dfb_상품수지_lag  dfb_서비스수지_lag  dfb_증권투자_lag   cooks_d  \\\n",
       "2018/01      -0.114468     -0.004906      -0.170910     -0.171540  0.019954   \n",
       "2018/02      -0.065820      0.009170      -0.124968      0.011683  0.004551   \n",
       "2018/03       0.131194      0.652290       0.893240      1.466649  0.564037   \n",
       "2018/04       0.008544     -0.018308       0.011978     -0.014665  0.000223   \n",
       "2018/05      -0.033074      0.081771      -0.024847      0.000192  0.003974   \n",
       "...                ...           ...            ...           ...       ...   \n",
       "2023/08       0.006809     -0.060309      -0.125557     -0.041895  0.009319   \n",
       "2023/09       0.027986     -0.009778       0.000868     -0.021226  0.000963   \n",
       "2023/10       0.004542     -0.001599       0.008665      0.001432  0.000032   \n",
       "2023/11      -0.071005      0.011270      -0.033151      0.049714  0.004398   \n",
       "2023/12       0.034915     -0.319440       0.386007     -0.683495  0.173531   \n",
       "\n",
       "         standard_resid  hat_diag  dffits_internal  student_resid    dffits  \n",
       "2018/01        0.783917  0.114953         0.282519       0.781672  0.281709  \n",
       "2018/02        0.347567  0.130952         0.134919       0.345309  0.134042  \n",
       "2018/03       -5.651877  0.065969        -1.502048      -7.704413 -2.047531  \n",
       "2018/04       -0.141534  0.042669        -0.029880      -0.140510 -0.029664  \n",
       "2018/05        0.723307  0.029486         0.126075       0.720747  0.125629  \n",
       "...                 ...       ...              ...            ...       ...  \n",
       "2023/08        1.091915  0.030316         0.193067       1.093485  0.193345  \n",
       "2023/09        0.488969  0.015857         0.062067       0.486216  0.061718  \n",
       "2023/10       -0.049266  0.049772        -0.011275      -0.048904 -0.011192  \n",
       "2023/11       -1.007624  0.017034        -0.132642      -1.007739 -0.132657  \n",
       "2023/12       -3.894610  0.043760        -0.833140      -4.385840 -0.938225  \n",
       "\n",
       "[72 rows x 10 columns]"
      ]
     },
     "execution_count": 18,
     "metadata": {},
     "output_type": "execute_result"
    }
   ],
   "source": [
    "influence.summary_frame()"
   ]
  },
  {
   "cell_type": "markdown",
   "metadata": {},
   "source": [
    "### Multicollinearity"
   ]
  },
  {
   "cell_type": "code",
   "execution_count": 19,
   "metadata": {},
   "outputs": [
    {
     "data": {
      "text/html": [
       "<div>\n",
       "<style scoped>\n",
       "    .dataframe tbody tr th:only-of-type {\n",
       "        vertical-align: middle;\n",
       "    }\n",
       "\n",
       "    .dataframe tbody tr th {\n",
       "        vertical-align: top;\n",
       "    }\n",
       "\n",
       "    .dataframe thead th {\n",
       "        text-align: right;\n",
       "    }\n",
       "</style>\n",
       "<table border=\"1\" class=\"dataframe\">\n",
       "  <thead>\n",
       "    <tr style=\"text-align: right;\">\n",
       "      <th></th>\n",
       "      <th>variable</th>\n",
       "      <th>VIF</th>\n",
       "    </tr>\n",
       "  </thead>\n",
       "  <tbody>\n",
       "    <tr>\n",
       "      <th>0</th>\n",
       "      <td>상품수지_lag</td>\n",
       "      <td>1.081357</td>\n",
       "    </tr>\n",
       "    <tr>\n",
       "      <th>1</th>\n",
       "      <td>서비스수지_lag</td>\n",
       "      <td>1.026166</td>\n",
       "    </tr>\n",
       "    <tr>\n",
       "      <th>2</th>\n",
       "      <td>증권투자_lag</td>\n",
       "      <td>1.087203</td>\n",
       "    </tr>\n",
       "  </tbody>\n",
       "</table>\n",
       "</div>"
      ],
      "text/plain": [
       "    variable       VIF\n",
       "0   상품수지_lag  1.081357\n",
       "1  서비스수지_lag  1.026166\n",
       "2   증권투자_lag  1.087203"
      ]
     },
     "execution_count": 19,
     "metadata": {},
     "output_type": "execute_result"
    }
   ],
   "source": [
    "# condition number\n",
    "ols_result.condition_number # 16647.925912689516\n",
    "# VIF\n",
    "from statsmodels.stats.outliers_influence import variance_inflation_factor\n",
    "pd.DataFrame({'variable': column, 'VIF': variance_inflation_factor(X, i)} \n",
    "             for i, column in enumerate(X.columns)\n",
    "             if column != 'Intercept')"
   ]
  },
  {
   "cell_type": "code",
   "execution_count": 20,
   "metadata": {},
   "outputs": [
    {
     "data": {
      "text/html": [
       "<div>\n",
       "<style scoped>\n",
       "    .dataframe tbody tr th:only-of-type {\n",
       "        vertical-align: middle;\n",
       "    }\n",
       "\n",
       "    .dataframe tbody tr th {\n",
       "        vertical-align: top;\n",
       "    }\n",
       "\n",
       "    .dataframe thead th {\n",
       "        text-align: right;\n",
       "    }\n",
       "</style>\n",
       "<table border=\"1\" class=\"dataframe\">\n",
       "  <thead>\n",
       "    <tr style=\"text-align: right;\">\n",
       "      <th></th>\n",
       "      <th>variable</th>\n",
       "      <th>VIF</th>\n",
       "    </tr>\n",
       "  </thead>\n",
       "  <tbody>\n",
       "    <tr>\n",
       "      <th>0</th>\n",
       "      <td>상품수지_lag</td>\n",
       "      <td>1.081357</td>\n",
       "    </tr>\n",
       "    <tr>\n",
       "      <th>1</th>\n",
       "      <td>서비스수지_lag</td>\n",
       "      <td>1.026166</td>\n",
       "    </tr>\n",
       "    <tr>\n",
       "      <th>2</th>\n",
       "      <td>증권투자_lag</td>\n",
       "      <td>1.087203</td>\n",
       "    </tr>\n",
       "  </tbody>\n",
       "</table>\n",
       "</div>"
      ],
      "text/plain": [
       "    variable       VIF\n",
       "0   상품수지_lag  1.081357\n",
       "1  서비스수지_lag  1.026166\n",
       "2   증권투자_lag  1.087203"
      ]
     },
     "execution_count": 20,
     "metadata": {},
     "output_type": "execute_result"
    }
   ],
   "source": [
    "from scipy.stats import zscore\n",
    "newdata = data.apply(zscore)\n",
    "ols_result_new = smf.ols(formula = '외국인보유비율변화 ~ 상품수지_lag + 서비스수지_lag + 증권투자_lag', data = newdata).fit()\n",
    "ols_result_new.condition_number # 1.3549595693023824\n",
    "newy, newX = dmatrices('외국인보유비율변화 ~ 상품수지_lag + 서비스수지_lag + 증권투자_lag', data=newdata, return_type='dataframe')\n",
    "pd.DataFrame({'variable': column, 'VIF': variance_inflation_factor(newX, i)} \n",
    "             for i, column in enumerate(newX.columns)\n",
    "             if column != 'Intercept')"
   ]
  },
  {
   "cell_type": "markdown",
   "metadata": {},
   "source": [
    "### Heteroskedascity"
   ]
  },
  {
   "cell_type": "code",
   "execution_count": 26,
   "metadata": {},
   "outputs": [
    {
     "data": {
      "text/plain": [
       "(3.951247150797122, 0.9495195050090037, 0.3471454506768449, 0.9630277355825536)"
      ]
     },
     "execution_count": 26,
     "metadata": {},
     "output_type": "execute_result"
    }
   ],
   "source": [
    "sm.stats.het_breuschpagan(residuals, X) # (lm, lm_pvalue, fvalue, f_pvalue)\n",
    "sm.stats.het_white(residuals, X) # (lm, lm_pvalue, fvalue, f_pvalue)\n",
    "sm.stats.het_goldfeldquandt(y, X) # (fval, pval, order)\n",
    "sm.stats.het_arch(residuals) # (lm, lm_pvalue, fvalue, f_pvalue)"
   ]
  },
  {
   "cell_type": "code",
   "execution_count": 35,
   "metadata": {},
   "outputs": [
    {
     "name": "stdout",
     "output_type": "stream",
     "text": [
      "                            OLS Regression Results                            \n",
      "==============================================================================\n",
      "Dep. Variable:              외국인보유비율변화   R-squared:                       0.009\n",
      "Model:                            OLS   Adj. R-squared:                 -0.034\n",
      "Method:                 Least Squares   F-statistic:                    0.3990\n",
      "Date:                Sat, 23 Mar 2024   Prob (F-statistic):              0.754\n",
      "Time:                        20:50:18   Log-Likelihood:                -70.471\n",
      "No. Observations:                  72   AIC:                             148.9\n",
      "Df Residuals:                      68   BIC:                             158.0\n",
      "Df Model:                           3                                         \n",
      "Covariance Type:                  HC2                                         \n",
      "==============================================================================\n",
      "                 coef    std err          t      P>|t|      [0.025      0.975]\n",
      "------------------------------------------------------------------------------\n",
      "Intercept      0.0279      0.116      0.240      0.811      -0.204       0.260\n",
      "상품수지_lag   -1.561e-05   1.78e-05     -0.875      0.385   -5.12e-05       2e-05\n",
      "서비스수지_lag   1.594e-05   6.78e-05      0.235      0.815      -0.000       0.000\n",
      "증권투자_lag   -1.912e-06   2.42e-05     -0.079      0.937   -5.02e-05    4.64e-05\n",
      "==============================================================================\n",
      "Omnibus:                       76.989   Durbin-Watson:                   1.411\n",
      "Prob(Omnibus):                  0.000   Jarque-Bera (JB):              759.961\n",
      "Skew:                          -3.136   Prob(JB):                    9.47e-166\n",
      "Kurtosis:                      17.628   Cond. No.                     1.66e+04\n",
      "==============================================================================\n",
      "\n",
      "Notes:\n",
      "[1] Standard Errors are heteroscedasticity robust (HC2)\n",
      "[2] The condition number is large, 1.66e+04. This might indicate that there are\n",
      "strong multicollinearity or other numerical problems.\n"
     ]
    }
   ],
   "source": [
    "ols_hc1 = ols_result.get_robustcov_results(cov_type = \"HC1\")\n",
    "ols_hc1.cov_type # 'HC1'\n",
    "ols_hc2 = ols_result.get_robustcov_results(cov_type = \"HC2\")\n",
    "ols_hc2.cov_type # 'HC2'\n",
    "print(ols_hc2.summary())"
   ]
  },
  {
   "cell_type": "code",
   "execution_count": 39,
   "metadata": {},
   "outputs": [
    {
     "data": {
      "text/plain": [
       "'nonrobust'"
      ]
     },
     "execution_count": 39,
     "metadata": {},
     "output_type": "execute_result"
    }
   ],
   "source": [
    "ols_result.cov_HC0\n",
    "ols_result.cov_HC1\n",
    "ols_result.cov_HC2\n",
    "ols_result.cov_HC3\n",
    "ols_result.cov_type"
   ]
  },
  {
   "cell_type": "markdown",
   "metadata": {},
   "source": [
    "## 3. Extensions"
   ]
  },
  {
   "cell_type": "markdown",
   "metadata": {},
   "source": [
    "### WLS and GLS"
   ]
  },
  {
   "cell_type": "code",
   "execution_count": 58,
   "metadata": {},
   "outputs": [
    {
     "name": "stdout",
     "output_type": "stream",
     "text": [
      "                           GLSAR Regression Results                           \n",
      "==============================================================================\n",
      "Dep. Variable:              외국인보유비율변화   R-squared:                       0.012\n",
      "Model:                          GLSAR   Adj. R-squared:                 -0.032\n",
      "Method:                 Least Squares   F-statistic:                    0.2698\n",
      "Date:                Sat, 23 Mar 2024   Prob (F-statistic):              0.847\n",
      "Time:                        21:44:55   Log-Likelihood:                -69.667\n",
      "No. Observations:                  71   AIC:                             147.3\n",
      "Df Residuals:                      67   BIC:                             156.4\n",
      "Df Model:                           3                                         \n",
      "Covariance Type:            nonrobust                                         \n",
      "==============================================================================\n",
      "                 coef    std err          t      P>|t|      [0.025      0.975]\n",
      "------------------------------------------------------------------------------\n",
      "Intercept      0.0472      0.171      0.277      0.783      -0.293       0.388\n",
      "상품수지_lag    -1.55e-05   2.13e-05     -0.729      0.468   -5.79e-05    2.69e-05\n",
      "서비스수지_lag   2.847e-05   7.51e-05      0.379      0.706      -0.000       0.000\n",
      "증권투자_lag    1.166e-06   1.84e-05      0.063      0.950   -3.55e-05    3.78e-05\n",
      "==============================================================================\n",
      "Omnibus:                       74.555   Durbin-Watson:                   1.424\n",
      "Prob(Omnibus):                  0.000   Jarque-Bera (JB):              694.009\n",
      "Skew:                          -3.059   Prob(JB):                    1.99e-151\n",
      "Kurtosis:                      17.042   Cond. No.                     1.65e+04\n",
      "==============================================================================\n",
      "\n",
      "Notes:\n",
      "[1] Standard Errors assume that the covariance matrix of the errors is correctly specified.\n",
      "[2] The condition number is large, 1.65e+04. This might indicate that there are\n",
      "strong multicollinearity or other numerical problems.\n"
     ]
    }
   ],
   "source": [
    "glsar_result = smf.glsar(formula = '외국인보유비율변화 ~ 상품수지_lag + 서비스수지_lag + 증권투자_lag', data = data).fit()\n",
    "print(glsar_result.summary())"
   ]
  },
  {
   "cell_type": "markdown",
   "metadata": {},
   "source": [
    "### Polynomial Regression"
   ]
  },
  {
   "cell_type": "code",
   "execution_count": 60,
   "metadata": {},
   "outputs": [
    {
     "name": "stdout",
     "output_type": "stream",
     "text": [
      "                            OLS Regression Results                            \n",
      "==============================================================================\n",
      "Dep. Variable:              외국인보유비율변화   R-squared:                       0.056\n",
      "Model:                            OLS   Adj. R-squared:                  0.015\n",
      "Method:                 Least Squares   F-statistic:                     1.355\n",
      "Date:                Sat, 23 Mar 2024   Prob (F-statistic):              0.264\n",
      "Time:                        21:52:59   Log-Likelihood:                -68.716\n",
      "No. Observations:                  72   AIC:                             145.4\n",
      "Df Residuals:                      68   BIC:                             154.5\n",
      "Df Model:                           3                                         \n",
      "Covariance Type:            nonrobust                                         \n",
      "====================================================================================\n",
      "                       coef    std err          t      P>|t|      [0.025      0.975]\n",
      "------------------------------------------------------------------------------------\n",
      "Intercept            0.0765      0.166      0.460      0.647      -0.255       0.408\n",
      "상품수지_lag         -6.831e-05   3.51e-05     -1.945      0.056      -0.000    1.77e-06\n",
      "서비스수지_lag          5.24e-05   7.37e-05      0.710      0.480   -9.48e-05       0.000\n",
      "I(상품수지_lag ** 2)  6.731e-09   3.65e-09      1.847      0.069   -5.43e-10     1.4e-08\n",
      "==============================================================================\n",
      "Omnibus:                       72.850   Durbin-Watson:                   1.484\n",
      "Prob(Omnibus):                  0.000   Jarque-Bera (JB):              646.265\n",
      "Skew:                          -2.944   Prob(JB):                    4.63e-141\n",
      "Kurtosis:                      16.444   Cond. No.                     1.28e+08\n",
      "==============================================================================\n",
      "\n",
      "Notes:\n",
      "[1] Standard Errors assume that the covariance matrix of the errors is correctly specified.\n",
      "[2] The condition number is large, 1.28e+08. This might indicate that there are\n",
      "strong multicollinearity or other numerical problems.\n"
     ]
    }
   ],
   "source": [
    "ols_result_2 = smf.ols(formula = '외국인보유비율변화 ~ 상품수지_lag + 서비스수지_lag + I(상품수지_lag ** 2)', data = data).fit()\n",
    "print(ols_result_2.summary())"
   ]
  },
  {
   "cell_type": "code",
   "execution_count": 61,
   "metadata": {},
   "outputs": [
    {
     "name": "stdout",
     "output_type": "stream",
     "text": [
      "                            OLS Regression Results                            \n",
      "==============================================================================\n",
      "Dep. Variable:              외국인보유비율변화   R-squared:                       0.049\n",
      "Model:                            OLS   Adj. R-squared:                  0.022\n",
      "Method:                 Least Squares   F-statistic:                     1.793\n",
      "Date:                Sat, 23 Mar 2024   Prob (F-statistic):              0.174\n",
      "Time:                        21:55:07   Log-Likelihood:                -68.982\n",
      "No. Observations:                  72   AIC:                             144.0\n",
      "Df Residuals:                      69   BIC:                             150.8\n",
      "Df Model:                           2                                         \n",
      "Covariance Type:            nonrobust                                         \n",
      "==============================================================================================================\n",
      "                                                 coef    std err          t      P>|t|      [0.025      0.975]\n",
      "--------------------------------------------------------------------------------------------------------------\n",
      "Intercept                                      0.0030      0.066      0.045      0.965      -0.130       0.135\n",
      "np.vander(상품수지_lag, 3, increasing=True)[0]     0.0030      0.066      0.045      0.965      -0.130       0.135\n",
      "np.vander(상품수지_lag, 3, increasing=True)[1] -6.427e-05   3.45e-05     -1.861      0.067      -0.000    4.62e-06\n",
      "np.vander(상품수지_lag, 3, increasing=True)[2]  6.021e-09   3.49e-09      1.724      0.089   -9.47e-10     1.3e-08\n",
      "==============================================================================\n",
      "Omnibus:                       76.200   Durbin-Watson:                   1.454\n",
      "Prob(Omnibus):                  0.000   Jarque-Bera (JB):              748.837\n",
      "Skew:                          -3.089   Prob(JB):                    2.47e-163\n",
      "Kurtosis:                      17.541   Cond. No.                     3.95e+17\n",
      "==============================================================================\n",
      "\n",
      "Notes:\n",
      "[1] Standard Errors assume that the covariance matrix of the errors is correctly specified.\n",
      "[2] The smallest eigenvalue is 1.59e-18. This might indicate that there are\n",
      "strong multicollinearity problems or that the design matrix is singular.\n"
     ]
    }
   ],
   "source": [
    "ols_result_3 = smf.ols(formula = '외국인보유비율변화 ~ np.vander(상품수지_lag, 3, increasing = True)', data = data).fit()\n",
    "print(ols_result_3.summary())"
   ]
  },
  {
   "cell_type": "markdown",
   "metadata": {},
   "source": [
    "### Without Intercept"
   ]
  },
  {
   "cell_type": "code",
   "execution_count": 62,
   "metadata": {},
   "outputs": [
    {
     "name": "stdout",
     "output_type": "stream",
     "text": [
      "                                 OLS Regression Results                                \n",
      "=======================================================================================\n",
      "Dep. Variable:              외국인보유비율변화   R-squared (uncentered):                   0.023\n",
      "Model:                            OLS   Adj. R-squared (uncentered):             -0.020\n",
      "Method:                 Least Squares   F-statistic:                             0.5350\n",
      "Date:                Sat, 23 Mar 2024   Prob (F-statistic):                       0.660\n",
      "Time:                        21:59:30   Log-Likelihood:                         -70.486\n",
      "No. Observations:                  72   AIC:                                      147.0\n",
      "Df Residuals:                      69   BIC:                                      153.8\n",
      "Df Model:                           3                                                  \n",
      "Covariance Type:            nonrobust                                                  \n",
      "==============================================================================\n",
      "                 coef    std err          t      P>|t|      [0.025      0.975]\n",
      "------------------------------------------------------------------------------\n",
      "상품수지_lag   -1.362e-05   1.74e-05     -0.784      0.436   -4.83e-05     2.1e-05\n",
      "서비스수지_lag   8.974e-06   5.94e-05      0.151      0.880      -0.000       0.000\n",
      "증권투자_lag   -2.037e-06   1.78e-05     -0.115      0.909   -3.74e-05    3.34e-05\n",
      "==============================================================================\n",
      "Omnibus:                       77.391   Durbin-Watson:                   1.405\n",
      "Prob(Omnibus):                  0.000   Jarque-Bera (JB):              773.630\n",
      "Skew:                          -3.153   Prob(JB):                    1.02e-168\n",
      "Kurtosis:                      17.768   Cond. No.                         6.02\n",
      "==============================================================================\n",
      "\n",
      "Notes:\n",
      "[1] R² is computed without centering (uncentered) since the model does not contain a constant.\n",
      "[2] Standard Errors assume that the covariance matrix of the errors is correctly specified.\n"
     ]
    }
   ],
   "source": [
    "ols_result_4 = smf.ols(formula = '외국인보유비율변화 ~ 상품수지_lag + 서비스수지_lag + 증권투자_lag - 1', data = data).fit()\n",
    "print(ols_result_4.summary())"
   ]
  },
  {
   "cell_type": "markdown",
   "metadata": {},
   "source": [
    "### Interaction Term"
   ]
  },
  {
   "cell_type": "code",
   "execution_count": 63,
   "metadata": {},
   "outputs": [
    {
     "name": "stdout",
     "output_type": "stream",
     "text": [
      "                            OLS Regression Results                            \n",
      "==============================================================================\n",
      "Dep. Variable:              외국인보유비율변화   R-squared:                       0.017\n",
      "Model:                            OLS   Adj. R-squared:                 -0.041\n",
      "Method:                 Least Squares   F-statistic:                    0.2981\n",
      "Date:                Sat, 23 Mar 2024   Prob (F-statistic):              0.878\n",
      "Time:                        22:01:47   Log-Likelihood:                -70.170\n",
      "No. Observations:                  72   AIC:                             150.3\n",
      "Df Residuals:                      67   BIC:                             161.7\n",
      "Df Model:                           4                                         \n",
      "Covariance Type:            nonrobust                                         \n",
      "======================================================================================\n",
      "                         coef    std err          t      P>|t|      [0.025      0.975]\n",
      "--------------------------------------------------------------------------------------\n",
      "Intercept             -0.0270      0.184     -0.147      0.884      -0.395       0.341\n",
      "상품수지_lag           -1.522e-05   2.13e-05     -0.716      0.477   -5.77e-05    2.72e-05\n",
      "서비스수지_lag          -2.851e-05   9.43e-05     -0.302      0.763      -0.000       0.000\n",
      "증권투자_lag           -1.717e-05   2.71e-05     -0.633      0.529   -7.13e-05     3.7e-05\n",
      "서비스수지_lag:증권투자_lag -1.173e-08   1.57e-08     -0.750      0.456    -4.3e-08    1.95e-08\n",
      "==============================================================================\n",
      "Omnibus:                       74.680   Durbin-Watson:                   1.376\n",
      "Prob(Omnibus):                  0.000   Jarque-Bera (JB):              688.243\n",
      "Skew:                          -3.034   Prob(JB):                    3.55e-150\n",
      "Kurtosis:                      16.878   Cond. No.                     2.44e+07\n",
      "==============================================================================\n",
      "\n",
      "Notes:\n",
      "[1] Standard Errors assume that the covariance matrix of the errors is correctly specified.\n",
      "[2] The condition number is large, 2.44e+07. This might indicate that there are\n",
      "strong multicollinearity or other numerical problems.\n"
     ]
    }
   ],
   "source": [
    "ols_result_5 = smf.ols(formula = '외국인보유비율변화 ~ 상품수지_lag + 서비스수지_lag * 증권투자_lag', data = data).fit()\n",
    "print(ols_result_5.summary())"
   ]
  },
  {
   "cell_type": "code",
   "execution_count": 64,
   "metadata": {},
   "outputs": [
    {
     "name": "stdout",
     "output_type": "stream",
     "text": [
      "                            OLS Regression Results                            \n",
      "==============================================================================\n",
      "Dep. Variable:              외국인보유비율변화   R-squared:                       0.012\n",
      "Model:                            OLS   Adj. R-squared:                 -0.017\n",
      "Method:                 Least Squares   F-statistic:                    0.4046\n",
      "Date:                Sat, 23 Mar 2024   Prob (F-statistic):              0.669\n",
      "Time:                        22:02:55   Log-Likelihood:                -70.386\n",
      "No. Observations:                  72   AIC:                             146.8\n",
      "Df Residuals:                      69   BIC:                             153.6\n",
      "Df Model:                           2                                         \n",
      "Covariance Type:            nonrobust                                         \n",
      "======================================================================================\n",
      "                         coef    std err          t      P>|t|      [0.025      0.975]\n",
      "--------------------------------------------------------------------------------------\n",
      "Intercept              0.0154      0.136      0.113      0.910      -0.256       0.287\n",
      "상품수지_lag           -1.325e-05   2.08e-05     -0.637      0.526   -5.47e-05    2.82e-05\n",
      "서비스수지_lag:증권투자_lag -4.066e-09   8.69e-09     -0.468      0.641   -2.14e-08    1.33e-08\n",
      "==============================================================================\n",
      "Omnibus:                       74.342   Durbin-Watson:                   1.386\n",
      "Prob(Omnibus):                  0.000   Jarque-Bera (JB):              681.703\n",
      "Skew:                          -3.016   Prob(JB):                    9.33e-149\n",
      "Kurtosis:                      16.815   Cond. No.                     1.82e+07\n",
      "==============================================================================\n",
      "\n",
      "Notes:\n",
      "[1] Standard Errors assume that the covariance matrix of the errors is correctly specified.\n",
      "[2] The condition number is large, 1.82e+07. This might indicate that there are\n",
      "strong multicollinearity or other numerical problems.\n"
     ]
    }
   ],
   "source": [
    "ols_result_6 = smf.ols(formula = '외국인보유비율변화 ~ 상품수지_lag + 서비스수지_lag :증권투자_lag', data = data).fit()\n",
    "print(ols_result_6.summary())"
   ]
  },
  {
   "cell_type": "markdown",
   "metadata": {},
   "source": [
    "### Indicator Variables and Factors"
   ]
  },
  {
   "cell_type": "code",
   "execution_count": 66,
   "metadata": {},
   "outputs": [
    {
     "name": "stdout",
     "output_type": "stream",
     "text": [
      "                            OLS Regression Results                            \n",
      "==============================================================================\n",
      "Dep. Variable:              외국인보유비율변화   R-squared:                       0.011\n",
      "Model:                            OLS   Adj. R-squared:                 -0.017\n",
      "Method:                 Least Squares   F-statistic:                    0.3958\n",
      "Date:                Sat, 23 Mar 2024   Prob (F-statistic):              0.675\n",
      "Time:                        22:05:37   Log-Likelihood:                -70.395\n",
      "No. Observations:                  72   AIC:                             146.8\n",
      "Df Residuals:                      69   BIC:                             153.6\n",
      "Df Model:                           2                                         \n",
      "Covariance Type:            nonrobust                                         \n",
      "============================================================================================\n",
      "                               coef    std err          t      P>|t|      [0.025      0.975]\n",
      "--------------------------------------------------------------------------------------------\n",
      "Intercept                    0.0192      0.138      0.140      0.889      -0.255       0.294\n",
      "I(서비스수지_lag > 0)[T.True]    -0.1368      0.305     -0.449      0.655      -0.745       0.471\n",
      "상품수지_lag                 -1.579e-05   2.02e-05     -0.781      0.438   -5.61e-05    2.46e-05\n",
      "==============================================================================\n",
      "Omnibus:                       78.216   Durbin-Watson:                   1.400\n",
      "Prob(Omnibus):                  0.000   Jarque-Bera (JB):              804.768\n",
      "Skew:                          -3.187   Prob(JB):                    1.77e-175\n",
      "Kurtosis:                      18.087   Cond. No.                     2.65e+04\n",
      "==============================================================================\n",
      "\n",
      "Notes:\n",
      "[1] Standard Errors assume that the covariance matrix of the errors is correctly specified.\n",
      "[2] The condition number is large, 2.65e+04. This might indicate that there are\n",
      "strong multicollinearity or other numerical problems.\n"
     ]
    }
   ],
   "source": [
    "ols_result_7 = smf.ols(formula = '외국인보유비율변화 ~ 상품수지_lag + I(서비스수지_lag > 0)', data = data).fit()\n",
    "print(ols_result_7.summary())"
   ]
  },
  {
   "cell_type": "code",
   "execution_count": 80,
   "metadata": {},
   "outputs": [],
   "source": [
    "from functools import reduce\n",
    "from operator import add\n",
    "data['분기'] = reduce(add, [[1] * 3, [2] * 3, [3] * 3, [4] * 3]* 6)\n",
    "data['분기'] = data['분기'].apply(str)"
   ]
  },
  {
   "cell_type": "code",
   "execution_count": 88,
   "metadata": {},
   "outputs": [
    {
     "name": "stdout",
     "output_type": "stream",
     "text": [
      "                            OLS Regression Results                            \n",
      "==============================================================================\n",
      "Dep. Variable:              외국인보유비율변화   R-squared:                       0.051\n",
      "Model:                            OLS   Adj. R-squared:                 -0.005\n",
      "Method:                 Least Squares   F-statistic:                    0.9037\n",
      "Date:                Sat, 23 Mar 2024   Prob (F-statistic):              0.467\n",
      "Time:                        22:17:42   Log-Likelihood:                -68.914\n",
      "No. Observations:                  72   AIC:                             147.8\n",
      "Df Residuals:                      67   BIC:                             159.2\n",
      "Df Model:                           4                                         \n",
      "Covariance Type:            nonrobust                                         \n",
      "==============================================================================\n",
      "                 coef    std err          t      P>|t|      [0.025      0.975]\n",
      "------------------------------------------------------------------------------\n",
      "Intercept     -0.0394      0.177     -0.223      0.824      -0.392       0.313\n",
      "분기[T.2]       -0.0505      0.219     -0.231      0.818      -0.487       0.386\n",
      "분기[T.3]        0.2777      0.220      1.262      0.211      -0.162       0.717\n",
      "분기[T.4]       -0.0343      0.227     -0.151      0.880      -0.487       0.419\n",
      "상품수지_lag   -1.563e-05    2.1e-05     -0.745      0.459   -5.75e-05    2.63e-05\n",
      "==============================================================================\n",
      "Omnibus:                       77.684   Durbin-Watson:                   1.486\n",
      "Prob(Omnibus):                  0.000   Jarque-Bera (JB):              812.285\n",
      "Skew:                          -3.143   Prob(JB):                    4.12e-177\n",
      "Kurtosis:                      18.207   Cond. No.                     2.94e+04\n",
      "==============================================================================\n",
      "\n",
      "Notes:\n",
      "[1] Standard Errors assume that the covariance matrix of the errors is correctly specified.\n",
      "[2] The condition number is large, 2.94e+04. This might indicate that there are\n",
      "strong multicollinearity or other numerical problems.\n"
     ]
    }
   ],
   "source": [
    "ols_result_8 = smf.ols(formula = '외국인보유비율변화 ~ 상품수지_lag + 분기', data = data).fit()\n",
    "print(ols_result_8.summary())"
   ]
  },
  {
   "cell_type": "markdown",
   "metadata": {},
   "source": [
    "### Generalized Linear Model"
   ]
  },
  {
   "cell_type": "code",
   "execution_count": 92,
   "metadata": {},
   "outputs": [
    {
     "name": "stdout",
     "output_type": "stream",
     "text": [
      "Optimization terminated successfully.\n",
      "         Current function value: 0.679533\n",
      "         Iterations 4\n",
      "                           Logit Regression Results                           \n",
      "==============================================================================\n",
      "Dep. Variable:                  외국인증가   No. Observations:                   72\n",
      "Model:                          Logit   Df Residuals:                       70\n",
      "Method:                           MLE   Df Model:                            1\n",
      "Date:                Sat, 23 Mar 2024   Pseudo R-squ.:                 0.01909\n",
      "Time:                        23:05:00   Log-Likelihood:                -48.926\n",
      "converged:                       True   LL-Null:                       -49.879\n",
      "Covariance Type:            nonrobust   LLR p-value:                    0.1675\n",
      "==============================================================================\n",
      "                 coef    std err          z      P>|z|      [0.025      0.975]\n",
      "------------------------------------------------------------------------------\n",
      "Intercept      0.4229      0.429      0.985      0.325      -0.419       1.264\n",
      "상품수지_lag    -8.69e-05   6.44e-05     -1.349      0.177      -0.000    3.94e-05\n",
      "==============================================================================\n"
     ]
    }
   ],
   "source": [
    "# logistic regression model\n",
    "data['외국인증가'] = (data['외국인보유비율변화'] > 0) * 1\n",
    "logistic_result = smf.logit('외국인증가 ~ 상품수지_lag', data= data).fit()\n",
    "print(logistic_result.summary())"
   ]
  },
  {
   "cell_type": "code",
   "execution_count": 93,
   "metadata": {},
   "outputs": [
    {
     "name": "stdout",
     "output_type": "stream",
     "text": [
      "Optimization terminated successfully.\n",
      "         Current function value: 0.679457\n",
      "         Iterations 4\n",
      "                          Probit Regression Results                           \n",
      "==============================================================================\n",
      "Dep. Variable:                  외국인증가   No. Observations:                   72\n",
      "Model:                         Probit   Df Residuals:                       70\n",
      "Method:                           MLE   Df Model:                            1\n",
      "Date:                Sat, 23 Mar 2024   Pseudo R-squ.:                 0.01920\n",
      "Time:                        23:21:39   Log-Likelihood:                -48.921\n",
      "converged:                       True   LL-Null:                       -49.879\n",
      "Covariance Type:            nonrobust   LLR p-value:                    0.1663\n",
      "==============================================================================\n",
      "                 coef    std err          z      P>|z|      [0.025      0.975]\n",
      "------------------------------------------------------------------------------\n",
      "Intercept      0.2681      0.269      0.995      0.320      -0.260       0.796\n",
      "상품수지_lag   -5.469e-05   4.01e-05     -1.363      0.173      -0.000     2.4e-05\n",
      "==============================================================================\n"
     ]
    }
   ],
   "source": [
    "probit_result = smf.probit('외국인증가 ~ 상품수지_lag', data= data).fit()\n",
    "print(probit_result.summary())"
   ]
  }
 ],
 "metadata": {
  "kernelspec": {
   "display_name": "Python 3",
   "language": "python",
   "name": "python3"
  },
  "language_info": {
   "codemirror_mode": {
    "name": "ipython",
    "version": 3
   },
   "file_extension": ".py",
   "mimetype": "text/x-python",
   "name": "python",
   "nbconvert_exporter": "python",
   "pygments_lexer": "ipython3",
   "version": "3.11.5"
  }
 },
 "nbformat": 4,
 "nbformat_minor": 2
}
